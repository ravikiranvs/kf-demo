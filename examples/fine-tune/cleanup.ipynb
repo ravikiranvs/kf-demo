{
 "cells": [
  {
   "cell_type": "code",
   "execution_count": 10,
   "id": "5a0764c4-ac2d-48b9-ae7f-84626c2077c0",
   "metadata": {},
   "outputs": [],
   "source": [
    "import kfp\n",
    "from kfp.dsl import component, pipeline"
   ]
  },
  {
   "cell_type": "code",
   "execution_count": 20,
   "id": "e4da86cf-d050-40cf-9036-e5de14f64654",
   "metadata": {},
   "outputs": [],
   "source": [
    "@component(\n",
    "    base_image='python:3.9',\n",
    "    packages_to_install=[\"git+https://github.com/kubeflow/trainer.git@master#subdirectory=sdk\"],\n",
    ")\n",
    "def get_job_logs_n_cleanup(job_id: str) -> None:\n",
    "    from kubeflow.trainer import CustomTrainer, TrainerClient\n",
    "\n",
    "    for s in TrainerClient().get_job(name=job_id).steps:\n",
    "        print(f\"Step: {s.name}, Status: {s.status}, Devices: {s.device} x {s.device_count}\")\n",
    "    \n",
    "    logs = TrainerClient().get_job_logs(name=job_id)\n",
    "    \n",
    "    print(logs)\n",
    "    \n",
    "    TrainerClient().delete_job(name=job_id)"
   ]
  },
  {
   "cell_type": "code",
   "execution_count": 21,
   "id": "dfa65598-95f1-48ed-abb7-250ea358fbf0",
   "metadata": {},
   "outputs": [
    {
     "data": {
      "text/html": [
       "<a href=\"/pipeline/#/experiments/details/eab56b7f-f1ae-4d56-a13b-ae35c83302b6\" target=\"_blank\" >Experiment details</a>."
      ],
      "text/plain": [
       "<IPython.core.display.HTML object>"
      ]
     },
     "metadata": {},
     "output_type": "display_data"
    },
    {
     "data": {
      "text/html": [
       "<a href=\"/pipeline/#/runs/details/f50a50b5-61ce-459f-b139-db8fbcb3077e\" target=\"_blank\" >Run details</a>."
      ],
      "text/plain": [
       "<IPython.core.display.HTML object>"
      ]
     },
     "metadata": {},
     "output_type": "display_data"
    }
   ],
   "source": [
    "@pipeline(name='get-job-logs-n-cleanup-pipeline')\n",
    "def get_job_logs_n_cleanup_pipeline():\n",
    "    step1 = get_job_logs_n_cleanup(job_id=\"k756b179889b\")\n",
    "\n",
    "client = kfp.Client()\n",
    "kfp.compiler.Compiler().compile(get_job_logs_n_cleanup_pipeline, 'get_job_logs_n_cleanup_pipeline.yaml')\n",
    "run = client.create_run_from_pipeline_func(get_job_logs_n_cleanup_pipeline, arguments={}, enable_caching=False)"
   ]
  },
  {
   "cell_type": "code",
   "execution_count": null,
   "id": "732f84f0-7a59-4f90-a13a-a01286356528",
   "metadata": {},
   "outputs": [],
   "source": []
  }
 ],
 "metadata": {
  "kernelspec": {
   "display_name": "Python 3 (ipykernel)",
   "language": "python",
   "name": "python3"
  },
  "language_info": {
   "codemirror_mode": {
    "name": "ipython",
    "version": 3
   },
   "file_extension": ".py",
   "mimetype": "text/x-python",
   "name": "python",
   "nbconvert_exporter": "python",
   "pygments_lexer": "ipython3",
   "version": "3.11.11"
  }
 },
 "nbformat": 4,
 "nbformat_minor": 5
}
