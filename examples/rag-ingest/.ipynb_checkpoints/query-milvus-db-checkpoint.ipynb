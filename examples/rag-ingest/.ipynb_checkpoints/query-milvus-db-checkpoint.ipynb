{
 "cells": [
  {
   "cell_type": "code",
   "execution_count": 7,
   "id": "4ad35bb8-dd6a-4a67-a92d-d7202c127db9",
   "metadata": {},
   "outputs": [],
   "source": [
    "import kfp\n",
    "from kfp.dsl import component, pipeline"
   ]
  },
  {
   "cell_type": "markdown",
   "id": "d3d61bdf-3061-47fc-b2e8-0b1863091403",
   "metadata": {},
   "source": [
    "## Component to query Milvus DB"
   ]
  },
  {
   "cell_type": "code",
   "execution_count": 8,
   "id": "1f158b09-8d28-4907-bd1d-f464125879a0",
   "metadata": {},
   "outputs": [],
   "source": [
    "@component(\n",
    "    base_image='python:3.9',\n",
    "    packages_to_install=[\"pymilvus\", \"numpy\"],\n",
    ")\n",
    "def query_milvus(\n",
    "    milvus_host: str = 'standalone-milvus.milvus.svc.cluster.local',\n",
    "    milvus_port: int = 19530,\n",
    "    collection_name: str = 'rag_embeddings'\n",
    "):\n",
    "    from pymilvus import connections, Collection\n",
    "    import numpy as np\n",
    "\n",
    "    # Connect to Milvus\n",
    "    connections.connect(alias=\"default\", host=milvus_host, port=milvus_port)\n",
    "    print(f\"Connected to Milvus at {milvus_host}:{milvus_port}\")\n",
    "\n",
    "    collection = Collection(collection_name)\n",
    "    collection.load()\n",
    "\n",
    "    query_embedding = np.random.rand(768).tolist()\n",
    "\n",
    "    results = collection.search(\n",
    "        data=[query_embedding],\n",
    "        anns_field=\"embedding\",\n",
    "        param={\"metric_type\": \"L2\", \"params\": {\"nprobe\": 10}},\n",
    "        limit=5,\n",
    "        output_fields=[\"chunk_id\", \"text\", \"source_file\"]\n",
    "    )\n",
    "\n",
    "    for hit in results[0]:\n",
    "        print(f\"Chunk ID: {hit.entity.get('chunk_id')}\")\n",
    "        print(f\"Text: {hit.entity.get('text')}\")\n",
    "        print(f\"Source File: {hit.entity.get('source_file')}\")\n",
    "        print(f\"Distance: {hit.distance}\\n\")"
   ]
  },
  {
   "cell_type": "markdown",
   "id": "43d49542-5163-4c44-9463-478f823715d6",
   "metadata": {},
   "source": [
    "## Execute the component"
   ]
  },
  {
   "cell_type": "code",
   "execution_count": 9,
   "id": "13a29cfa-da5e-442e-9e0d-f9afd5998345",
   "metadata": {},
   "outputs": [
    {
     "name": "stderr",
     "output_type": "stream",
     "text": [
      "/opt/conda/lib/python3.11/site-packages/kfp/client/client.py:159: FutureWarning: This client only works with Kubeflow Pipeline v2.0.0-beta.2 and later versions.\n",
      "  warnings.warn(\n"
     ]
    },
    {
     "data": {
      "text/html": [
       "<a href=\"/pipeline/#/experiments/details/eab56b7f-f1ae-4d56-a13b-ae35c83302b6\" target=\"_blank\" >Experiment details</a>."
      ],
      "text/plain": [
       "<IPython.core.display.HTML object>"
      ]
     },
     "metadata": {},
     "output_type": "display_data"
    },
    {
     "data": {
      "text/html": [
       "<a href=\"/pipeline/#/runs/details/4c5a6693-c11f-457e-a8c0-b6952610dc42\" target=\"_blank\" >Run details</a>."
      ],
      "text/plain": [
       "<IPython.core.display.HTML object>"
      ]
     },
     "metadata": {},
     "output_type": "display_data"
    }
   ],
   "source": [
    "@pipeline(name='query-milvus-pipeline')\n",
    "def query_milvus_pipeline():\n",
    "    step1 = query_milvus()\n",
    "\n",
    "client = kfp.Client()\n",
    "kfp.compiler.Compiler().compile(query_milvus_pipeline, './pipelines-yaml/query_milvus_pipeline.yaml')\n",
    "run = client.create_run_from_pipeline_func(query_milvus_pipeline, arguments={}, enable_caching=False)"
   ]
  },
  {
   "cell_type": "code",
   "execution_count": null,
   "id": "7978d110-809c-4ee2-9418-0c4954448994",
   "metadata": {},
   "outputs": [],
   "source": []
  }
 ],
 "metadata": {
  "kernelspec": {
   "display_name": "Python 3 (ipykernel)",
   "language": "python",
   "name": "python3"
  },
  "language_info": {
   "codemirror_mode": {
    "name": "ipython",
    "version": 3
   },
   "file_extension": ".py",
   "mimetype": "text/x-python",
   "name": "python",
   "nbconvert_exporter": "python",
   "pygments_lexer": "ipython3",
   "version": "3.11.11"
  }
 },
 "nbformat": 4,
 "nbformat_minor": 5
}
