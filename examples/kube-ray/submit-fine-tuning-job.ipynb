{
 "cells": [
  {
   "cell_type": "code",
   "execution_count": 13,
   "id": "aecc213e-600a-4254-88f8-4dd3c9f52854",
   "metadata": {},
   "outputs": [],
   "source": [
    "import kfp\n",
    "import os\n",
    "import requests\n",
    "\n",
    "from kfp.dsl import Input, Model, component, Dataset, Output, Artifact\n",
    "from kfp.dsl import InputPath, OutputPath, pipeline, component, PipelineTask\n",
    "from kfp.components import load_component_from_file"
   ]
  },
  {
   "cell_type": "code",
   "execution_count": 14,
   "id": "96dabf47-a28c-4f2e-b431-20193fc94cbe",
   "metadata": {},
   "outputs": [],
   "source": [
    "@component(\n",
    "    base_image='python:3.9',\n",
    "    packages_to_install=[\"gitpython\"],\n",
    ")\n",
    "def download_files_from_github(repo_url: str, target_subdir: str, output_dir: Output[Artifact]):\n",
    "    import git\n",
    "    import shutil\n",
    "    from pathlib import Path\n",
    "\n",
    "    # repo_url = \"https://github.com/ravikiranvs/kf-demo.git\"\n",
    "    # target_subdir = \"examples/kube-ray/job\"\n",
    "\n",
    "    # Clone the repo to /tmp\n",
    "    repo_path = \"/tmp/kf-demo\"\n",
    "    if Path(repo_path).exists():\n",
    "        shutil.rmtree(repo_path)\n",
    "    git.Repo.clone_from(repo_url, repo_path)\n",
    "\n",
    "    # Copy the desired files to the output directory\n",
    "    source_dir = Path(repo_path) / target_subdir\n",
    "    dest_dir = Path(output_dir.path)\n",
    "    dest_dir.mkdir(parents=True, exist_ok=True)\n",
    "\n",
    "    for file_path in source_dir.iterdir():\n",
    "        if file_path.is_file():\n",
    "            shutil.copy(file_path, dest_dir / file_path.name)"
   ]
  },
  {
   "cell_type": "code",
   "execution_count": 15,
   "id": "19b3de6b-4a19-4bde-97ea-dcaa9525755e",
   "metadata": {},
   "outputs": [],
   "source": [
    "@component(\n",
    "    base_image=\"rayproject/ray:2.41.0\"\n",
    ")\n",
    "def submit_job(job_dir: Input[Artifact], host: str, port: int):\n",
    "    import os\n",
    "    import shutil\n",
    "    from ray.job_submission import JobSubmissionClient\n",
    "\n",
    "    target_dir = \"./code\"\n",
    "    if os.path.exists(target_dir):\n",
    "        shutil.rmtree(target_dir)\n",
    "    shutil.copytree(job_dir.path, target_dir)\n",
    "\n",
    "    client = JobSubmissionClient(f\"http://{host}:{port}\")\n",
    "\n",
    "    job_id = client.submit_job(\n",
    "        entrypoint=\"python ray-job.py\",\n",
    "        runtime_env={\n",
    "            \"working_dir\": target_dir,\n",
    "            \"pip\": [\n",
    "                \"accelerate\",\n",
    "                \"transformers[torch]\",\n",
    "                \"transformers\",\n",
    "                \"datasets\",\n",
    "                \"evaluate\",\n",
    "                \"huggingface_hub\",\n",
    "                \"peft\",\n",
    "                \"bitsandbytes\",\n",
    "                \"deepspeed\",\n",
    "                \"ray[train]\"\n",
    "            ]\n",
    "        }\n",
    "    )\n",
    "    \n",
    "    print(job_id)"
   ]
  },
  {
   "cell_type": "code",
   "execution_count": 16,
   "id": "32c0ffa3-e1af-4b82-86d6-6e5bfb669328",
   "metadata": {},
   "outputs": [],
   "source": [
    "@pipeline(name='ray-job-submit-pipeline')\n",
    "def file_processing_pipeline(host: str, port: int):\n",
    "    job_download_op = download_files_from_github(repo_url=\"https://github.com/ravikiranvs/kf-demo.git\", target_subdir=\"examples/kube-ray/job\")\n",
    "    job_op = submit_job(job_dir=job_download_op.output, host=host, port=port)"
   ]
  },
  {
   "cell_type": "code",
   "execution_count": 18,
   "id": "2eb81f8f-bdb4-4550-92e8-dbeccacf244d",
   "metadata": {},
   "outputs": [
    {
     "data": {
      "text/html": [
       "<a href=\"/pipeline/#/experiments/details/eab56b7f-f1ae-4d56-a13b-ae35c83302b6\" target=\"_blank\" >Experiment details</a>."
      ],
      "text/plain": [
       "<IPython.core.display.HTML object>"
      ]
     },
     "metadata": {},
     "output_type": "display_data"
    },
    {
     "data": {
      "text/html": [
       "<a href=\"/pipeline/#/runs/details/d5671cbc-b61d-4c31-b1ce-6bbf03493008\" target=\"_blank\" >Run details</a>."
      ],
      "text/plain": [
       "<IPython.core.display.HTML object>"
      ]
     },
     "metadata": {},
     "output_type": "display_data"
    }
   ],
   "source": [
    "client = kfp.Client()\n",
    "run = client.create_run_from_pipeline_func(file_processing_pipeline, arguments={\"host\": \"raycluster-kuberay-head-svc.demo-ns.svc.cluster.local\", \"port\": 8265}, enable_caching=False)"
   ]
  },
  {
   "cell_type": "code",
   "execution_count": null,
   "id": "80d44b91-ea8e-48a5-9964-aeb527857d51",
   "metadata": {},
   "outputs": [],
   "source": []
  }
 ],
 "metadata": {
  "kernelspec": {
   "display_name": "Python 3 (ipykernel)",
   "language": "python",
   "name": "python3"
  },
  "language_info": {
   "codemirror_mode": {
    "name": "ipython",
    "version": 3
   },
   "file_extension": ".py",
   "mimetype": "text/x-python",
   "name": "python",
   "nbconvert_exporter": "python",
   "pygments_lexer": "ipython3",
   "version": "3.11.11"
  }
 },
 "nbformat": 4,
 "nbformat_minor": 5
}
