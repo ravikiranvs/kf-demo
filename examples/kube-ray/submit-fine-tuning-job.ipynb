{
 "cells": [
  {
   "cell_type": "code",
   "execution_count": 20,
   "id": "aecc213e-600a-4254-88f8-4dd3c9f52854",
   "metadata": {},
   "outputs": [],
   "source": [
    "import kfp\n",
    "import os\n",
    "import requests\n",
    "\n",
    "from kfp.dsl import Input, Model, component, Dataset, Output, Artifact\n",
    "from kfp.dsl import InputPath, OutputPath, pipeline, component, PipelineTask\n",
    "from kfp.components import load_component_from_file"
   ]
  },
  {
   "cell_type": "code",
   "execution_count": 21,
   "id": "96dabf47-a28c-4f2e-b431-20193fc94cbe",
   "metadata": {},
   "outputs": [],
   "source": [
    "@component(\n",
    "    base_image='python:3.9',\n",
    "    packages_to_install=[\"gitpython\"],\n",
    ")\n",
    "def download_files_from_github(repo_url: str, target_subdir: str, output_dir: Output[Artifact]):\n",
    "    import git\n",
    "    import shutil\n",
    "    from pathlib import Path\n",
    "\n",
    "    # repo_url = \"https://github.com/ravikiranvs/kf-demo.git\"\n",
    "    # target_subdir = \"examples/kube-ray/job\"\n",
    "\n",
    "    # Clone the repo to /tmp\n",
    "    repo_path = \"/tmp/kf-demo\"\n",
    "    if Path(repo_path).exists():\n",
    "        shutil.rmtree(repo_path)\n",
    "    git.Repo.clone_from(repo_url, repo_path)\n",
    "\n",
    "    # Copy the desired files to the output directory\n",
    "    source_dir = Path(repo_path) / target_subdir\n",
    "    dest_dir = Path(output_dir.path)\n",
    "    dest_dir.mkdir(parents=True, exist_ok=True)\n",
    "\n",
    "    for file_path in source_dir.iterdir():\n",
    "        if file_path.is_file():\n",
    "            shutil.copy(file_path, dest_dir / file_path.name)"
   ]
  },
  {
   "cell_type": "code",
   "execution_count": 22,
   "id": "19b3de6b-4a19-4bde-97ea-dcaa9525755e",
   "metadata": {},
   "outputs": [],
   "source": [
    "@component(\n",
    "    base_image=\"rayproject/ray:2.41.0\"\n",
    ")\n",
    "def submit_job(job_dir: Input[Artifact], host: str, port: int):\n",
    "    import os\n",
    "    import shutil\n",
    "    from ray.job_submission import JobSubmissionClient\n",
    "\n",
    "    target_dir = \"./code\"\n",
    "    if os.path.exists(target_dir):\n",
    "        shutil.rmtree(target_dir)\n",
    "    shutil.copytree(job_dir.path, target_dir)\n",
    "\n",
    "    client = JobSubmissionClient(f\"http://{host}:{port}\")\n",
    "\n",
    "    job_id = client.submit_job(\n",
    "        entrypoint=\"python ray-job.py\",\n",
    "        runtime_env={\n",
    "            \"working_dir\": target_dir,\n",
    "            \"env_vars\": {\n",
    "                \"MLFLOW_TRACKING_URI\": os.getenv(\"MLFLOW_TRACKING_URI\"),\n",
    "                \"MLFLOW_S3_ENDPOINT_URL\": os.getenv(\"MLFLOW_S3_ENDPOINT_URL\"),\n",
    "                \"AWS_ACCESS_KEY_ID\": os.getenv(\"AWS_ACCESS_KEY_ID\"),\n",
    "                \"AWS_SECRET_ACCESS_KEY\": os.getenv(\"AWS_SECRET_ACCESS_KEY\"),\n",
    "            },\n",
    "            \"pip\": [\n",
    "                \"accelerate\",\n",
    "                \"transformers[torch]\",\n",
    "                \"transformers\",\n",
    "                \"datasets\",\n",
    "                \"evaluate\",\n",
    "                \"huggingface_hub\",\n",
    "                \"peft\",\n",
    "                \"bitsandbytes\",\n",
    "                \"deepspeed\",\n",
    "                \"ray[train]\",\n",
    "                \"mlflow==2.15.1\"\n",
    "            ]\n",
    "        }\n",
    "    )\n",
    "    \n",
    "    print(job_id)"
   ]
  },
  {
   "cell_type": "code",
   "execution_count": 23,
   "id": "32c0ffa3-e1af-4b82-86d6-6e5bfb669328",
   "metadata": {},
   "outputs": [],
   "source": [
    "mlflow_tracking_uri = os.getenv('MLFLOW_TRACKING_URI')\n",
    "mlflow_s3_endpoint_url = os.getenv('MLFLOW_S3_ENDPOINT_URL')\n",
    "aws_access_key_id = os.getenv('AWS_ACCESS_KEY_ID')\n",
    "aws_secret_access_key = os.getenv('AWS_SECRET_ACCESS_KEY')\n",
    "\n",
    "@pipeline(name='ray-job-submit-pipeline')\n",
    "def file_processing_pipeline(host: str, port: int):\n",
    "    job_download_op = download_files_from_github(repo_url=\"https://github.com/ravikiranvs/kf-demo.git\", target_subdir=\"examples/kube-ray/job\")\n",
    "    job_op = submit_job(job_dir=job_download_op.output, host=host, port=port)\\\n",
    "     .set_env_variable(name='MLFLOW_TRACKING_URI', value=mlflow_tracking_uri)\\\n",
    "     .set_env_variable(name='MLFLOW_S3_ENDPOINT_URL', value=mlflow_s3_endpoint_url)\\\n",
    "     .set_env_variable(name='AWS_ACCESS_KEY_ID', value=aws_access_key_id)\\\n",
    "     .set_env_variable(name='AWS_SECRET_ACCESS_KEY', value=aws_secret_access_key)"
   ]
  },
  {
   "cell_type": "code",
   "execution_count": 27,
   "id": "2eb81f8f-bdb4-4550-92e8-dbeccacf244d",
   "metadata": {},
   "outputs": [
    {
     "data": {
      "text/html": [
       "<a href=\"/pipeline/#/experiments/details/eab56b7f-f1ae-4d56-a13b-ae35c83302b6\" target=\"_blank\" >Experiment details</a>."
      ],
      "text/plain": [
       "<IPython.core.display.HTML object>"
      ]
     },
     "metadata": {},
     "output_type": "display_data"
    },
    {
     "data": {
      "text/html": [
       "<a href=\"/pipeline/#/runs/details/d88f58e9-b297-4b08-a1ad-ba3fc19eb84c\" target=\"_blank\" >Run details</a>."
      ],
      "text/plain": [
       "<IPython.core.display.HTML object>"
      ]
     },
     "metadata": {},
     "output_type": "display_data"
    }
   ],
   "source": [
    "client = kfp.Client()\n",
    "run = client.create_run_from_pipeline_func(file_processing_pipeline, arguments={\"host\": \"raycluster-kuberay-head-svc.demo-ns.svc.cluster.local\", \"port\": 8265}, enable_caching=False)"
   ]
  }
 ],
 "metadata": {
  "kernelspec": {
   "display_name": "Python 3 (ipykernel)",
   "language": "python",
   "name": "python3"
  },
  "language_info": {
   "codemirror_mode": {
    "name": "ipython",
    "version": 3
   },
   "file_extension": ".py",
   "mimetype": "text/x-python",
   "name": "python",
   "nbconvert_exporter": "python",
   "pygments_lexer": "ipython3",
   "version": "3.11.11"
  }
 },
 "nbformat": 4,
 "nbformat_minor": 5
}
