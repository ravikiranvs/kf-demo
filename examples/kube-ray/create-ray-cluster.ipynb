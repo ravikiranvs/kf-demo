{
 "cells": [
  {
   "cell_type": "code",
   "execution_count": 1,
   "id": "9e857022-7e02-4d11-9edd-d18f33928cfb",
   "metadata": {},
   "outputs": [],
   "source": [
    "import kfp\n",
    "import os\n",
    "import requests\n",
    "\n",
    "from kfp.dsl import Input, Model, component, Dataset, Output, Artifact, Markdown\n",
    "from kfp.dsl import InputPath, OutputPath, pipeline, component, PipelineTask\n",
    "from kfp.components import load_component_from_file"
   ]
  },
  {
   "cell_type": "code",
   "execution_count": 2,
   "id": "3c7b0b17-90c2-4818-8ddb-01c3965f5236",
   "metadata": {},
   "outputs": [],
   "source": [
    "# ray_pvc_yaml_generator = load_component_from_file(\"component_pvc_yaml_generator.yaml\")\n",
    "ray_cluster_yaml_generator = load_component_from_file(\"component_ray_cluster_yaml_generator.yaml\")"
   ]
  },
  {
   "cell_type": "code",
   "execution_count": 3,
   "id": "907a2d2a-3f1c-47b7-9bc9-272b03fb2a9d",
   "metadata": {},
   "outputs": [],
   "source": [
    "@component(\n",
    "    base_image=\"python:3.11\",\n",
    "    packages_to_install=[\"kubernetes==26.1.0\", \"tenacity==9.0.0\"]\n",
    ")\n",
    "def deploy_ray_cluster_yaml(ray_cluster_yaml: Input[Artifact], namespace: str) -> str:\n",
    "    import yaml\n",
    "    from kubernetes import client, config\n",
    "    from tenacity import retry, wait_exponential, stop_after_attempt\n",
    "\n",
    "    with open(ray_cluster_yaml.path, 'r') as f:\n",
    "        dep = yaml.safe_load(f)\n",
    "\n",
    "    name = dep['metadata']['name']\n",
    "    \n",
    "    config.load_incluster_config()\n",
    "    api = client.CustomObjectsApi()\n",
    "\n",
    "    api.create_namespaced_custom_object(\n",
    "        group='ray.io',\n",
    "        version='v1',\n",
    "        namespace=namespace,\n",
    "        plural='rayclusters',\n",
    "        body=dep\n",
    "    )\n",
    "\n",
    "    @retry(\n",
    "        wait=wait_exponential(multiplier=2, min=1, max=10),\n",
    "        stop=stop_after_attempt(30),\n",
    "        reraise=True,\n",
    "    )\n",
    "    def ray_cluster_wait(api, namespace, name):\n",
    "        raycluster = api.get_namespaced_custom_object(\n",
    "            group=\"ray.io\",\n",
    "            version=\"v1\",\n",
    "            namespace=namespace,\n",
    "            plural=\"rayclusters\",\n",
    "            name=name\n",
    "        )\n",
    "        status = raycluster.get(\"status\", {})\n",
    "        state = status.get(\"state\").lower()\n",
    "        assert state == \"ready\", f\"Failed to create Ray Cluster: {name} in {namespace}.\"\n",
    "\n",
    "    ray_cluster_wait(api, namespace, name)\n",
    "\n",
    "    raycluster = api.get_namespaced_custom_object(\n",
    "        group=\"ray.io\",\n",
    "        version=\"v1\",\n",
    "        namespace=namespace,\n",
    "        plural=\"rayclusters\",\n",
    "        name=name\n",
    "    )\n",
    "\n",
    "    # Extract useful info\n",
    "    status = raycluster.get(\"status\", {})\n",
    "    endpoints = status.get(\"endpoints\", {})\n",
    "    head = status.get(\"head\", {})\n",
    "\n",
    "    # Format Markdown output\n",
    "    md_lines = [\n",
    "        f\"# RayCluster `{name}` Status Overview\",\n",
    "        \"## Endpoints\",\n",
    "    ]\n",
    "    for key, val in endpoints.items():\n",
    "        md_lines.append(f\"- **{key}**: `{val}`\")\n",
    "\n",
    "    md_lines += [\n",
    "        \"\\n## Head Node\",\n",
    "        f\"- **podName**: `{head.get('podName', 'N/A')}`\",\n",
    "        f\"- **podIP**: `{head.get('podIP', 'N/A')}`\",\n",
    "        f\"- **serviceName**: `{head.get('serviceName', 'N/A')}`\",\n",
    "        f\"- **serviceIP**: `{head.get('serviceIP', 'N/A')}`\"\n",
    "    ]\n",
    "\n",
    "    md_info = '\\n'.join(md_lines)\n",
    "\n",
    "    return md_info"
   ]
  },
  {
   "cell_type": "code",
   "execution_count": 4,
   "id": "ee871439-2d46-48ea-b28f-9e0ae5dd7db0",
   "metadata": {},
   "outputs": [],
   "source": [
    "@component(\n",
    "    base_image=\"python:3.11\",\n",
    "    packages_to_install=[\"kubernetes==26.1.0\"]\n",
    ")\n",
    "def deploy_ray_pvc_yaml(namespace: str, release_name: str, size: str) -> None:\n",
    "    import yaml\n",
    "    from kubernetes import client, config\n",
    "\n",
    "    # with open(ray_pvc_yaml.path, 'r') as f:\n",
    "    #     dep = yaml.safe_load(f)\n",
    "    pvc_yaml = f\"\"\"\n",
    "apiVersion: v1\n",
    "kind: PersistentVolumeClaim\n",
    "metadata:\n",
    "  name: pvc-{release_name}\n",
    "  namespace: {namespace}\n",
    "spec:\n",
    "  accessModes:\n",
    "    - ReadWriteMany\n",
    "  resources:\n",
    "    requests:\n",
    "      storage: {size}\n",
    "\"\"\"\n",
    "    dep = yaml.safe_load(pvc_yaml)\n",
    "\n",
    "    name = dep['metadata']['name']\n",
    "    \n",
    "    config.load_incluster_config()\n",
    "    k8s_core_v1 = client.CoreV1Api()\n",
    "    k8s_core_v1.create_namespaced_persistent_volume_claim(body=dep, namespace=namespace)"
   ]
  },
  {
   "cell_type": "code",
   "execution_count": 5,
   "id": "1d95cec8-50dd-4020-ab12-71008d93d888",
   "metadata": {},
   "outputs": [],
   "source": [
    "@pipeline(name='create-ray-cluster-pipeline')\n",
    "def create_ray_cluster_pipeline(namespace: str, release_name: str, num_nodes: int, gpus_per_node: int) -> str:\n",
    "    pvc_deploy_op = deploy_ray_pvc_yaml(namespace=namespace, release_name=release_name, size=\"30Gi\")\n",
    "    ray_yaml_op = ray_cluster_yaml_generator(namespace=namespace, release_name=release_name, num_nodes=1, gpus_per_node=1).after(pvc_deploy_op)\n",
    "    ray_deploy_op = deploy_ray_cluster_yaml(ray_cluster_yaml=ray_yaml_op.outputs['rendered_yaml'], namespace=namespace)\n",
    "    return ray_deploy_op.output"
   ]
  },
  {
   "cell_type": "code",
   "execution_count": 6,
   "id": "9f593dc4-2053-493c-b7ac-f73e75361ce8",
   "metadata": {},
   "outputs": [
    {
     "name": "stderr",
     "output_type": "stream",
     "text": [
      "/opt/conda/lib/python3.11/site-packages/kfp/client/client.py:159: FutureWarning: This client only works with Kubeflow Pipeline v2.0.0-beta.2 and later versions.\n",
      "  warnings.warn(\n"
     ]
    }
   ],
   "source": [
    "client = kfp.Client()\n",
    "\n",
    "kfp.compiler.Compiler().compile(create_ray_cluster_pipeline, './pipelines-yaml/create_ray_cluster_pipeline.yaml')"
   ]
  },
  {
   "cell_type": "code",
   "execution_count": 7,
   "id": "40b64283-eed5-411e-8e01-c5a21e0f8cd9",
   "metadata": {},
   "outputs": [
    {
     "data": {
      "text/html": [
       "<a href=\"/pipeline/#/experiments/details/eab56b7f-f1ae-4d56-a13b-ae35c83302b6\" target=\"_blank\" >Experiment details</a>."
      ],
      "text/plain": [
       "<IPython.core.display.HTML object>"
      ]
     },
     "metadata": {},
     "output_type": "display_data"
    },
    {
     "data": {
      "text/html": [
       "<a href=\"/pipeline/#/runs/details/6ea06e50-4b05-4a3f-acf7-cfdcd1f25f18\" target=\"_blank\" >Run details</a>."
      ],
      "text/plain": [
       "<IPython.core.display.HTML object>"
      ]
     },
     "metadata": {},
     "output_type": "display_data"
    }
   ],
   "source": [
    "run = client.create_run_from_pipeline_func(create_ray_cluster_pipeline, arguments={\"namespace\": \"demo-ns\", \"release_name\": \"raycluster\", \"num_nodes\": 2, \"gpus_per_node\": 1}, enable_caching=False)"
   ]
  },
  {
   "cell_type": "code",
   "execution_count": null,
   "id": "6341f4ad-b35d-4402-9e49-48510f545ce0",
   "metadata": {},
   "outputs": [],
   "source": []
  }
 ],
 "metadata": {
  "kernelspec": {
   "display_name": "Python 3 (ipykernel)",
   "language": "python",
   "name": "python3"
  },
  "language_info": {
   "codemirror_mode": {
    "name": "ipython",
    "version": 3
   },
   "file_extension": ".py",
   "mimetype": "text/x-python",
   "name": "python",
   "nbconvert_exporter": "python",
   "pygments_lexer": "ipython3",
   "version": "3.11.11"
  }
 },
 "nbformat": 4,
 "nbformat_minor": 5
}
