{
 "cells": [
  {
   "cell_type": "code",
   "execution_count": 43,
   "id": "c254d447-1726-4cdd-91fc-deb663b4a4fd",
   "metadata": {},
   "outputs": [],
   "source": [
    "import kfp\n",
    "import os\n",
    "import requests\n",
    "\n",
    "from kfp.dsl import Input, Model, component, Dataset, Output, Artifact\n",
    "from kfp.dsl import InputPath, OutputPath, pipeline, component, PipelineTask\n",
    "from kfp.components import load_component_from_file"
   ]
  },
  {
   "cell_type": "code",
   "execution_count": 44,
   "id": "1e50542e-a4a9-4c2c-84b9-ba7230dceace",
   "metadata": {},
   "outputs": [],
   "source": [
    "@component\n",
    "def make_artifact(code_lines: str, output_file: Output[Artifact]):\n",
    "    import os\n",
    "    os.makedirs(output_file.path, exist_ok=True)\n",
    "    output_file_path = os.path.join(output_file.path, \"job.py\")\n",
    "\n",
    "    with open(output_file_path, 'w') as f:\n",
    "        f.write(code_lines)"
   ]
  },
  {
   "cell_type": "code",
   "execution_count": 45,
   "id": "c2bacd6d-97a9-463b-a03e-fbf051b2cd77",
   "metadata": {},
   "outputs": [],
   "source": [
    "@component(\n",
    "    base_image=\"rayproject/ray:2.41.0\"\n",
    ")\n",
    "def submit_job(code_dir: Input[Artifact], host: str, port: int):\n",
    "    import os\n",
    "    import shutil\n",
    "    from ray.job_submission import JobSubmissionClient\n",
    "\n",
    "    target_dir = \"./code\"\n",
    "    if os.path.exists(target_dir):\n",
    "        shutil.rmtree(target_dir)\n",
    "    shutil.copytree(code_dir.path, target_dir)\n",
    "\n",
    "    client = JobSubmissionClient(f\"http://{host}:{port}\")\n",
    "\n",
    "    job_id = client.submit_job(\n",
    "        entrypoint=\"python job.py\",\n",
    "        runtime_env={\n",
    "            \"working_dir\": target_dir,\n",
    "            \"pip\": [\n",
    "                \"deepspeed\",\n",
    "                \"torch\",\n",
    "                \"datasets\",\n",
    "                \"transformers\",\n",
    "                \"torchmetrics\",\n",
    "                \"ray[train]\"\n",
    "            ]\n",
    "        }\n",
    "    )\n",
    "    \n",
    "    print(job_id)"
   ]
  },
  {
   "cell_type": "code",
   "execution_count": 46,
   "id": "d5b7091b-6016-4cd5-8a2f-ad2f3538ad4d",
   "metadata": {},
   "outputs": [],
   "source": [
    "with open('./ray-job.py', 'r') as f:\n",
    "    code = f.read()"
   ]
  },
  {
   "cell_type": "code",
   "execution_count": 47,
   "id": "b8d068fc-30fb-4249-99c1-b5f25ec4c5f2",
   "metadata": {},
   "outputs": [],
   "source": [
    "@pipeline(name='ray-job-submit-pipeline')\n",
    "def file_processing_pipeline(host: str, port: int):\n",
    "    code_op = make_artifact(code_lines=code)\n",
    "    job_op = submit_job(code_dir=code_op.output, host=host, port=port)"
   ]
  },
  {
   "cell_type": "code",
   "execution_count": 48,
   "id": "00ca76f7-41d0-40a9-b060-7f30254093e7",
   "metadata": {},
   "outputs": [],
   "source": [
    "kfp.compiler.Compiler().compile(file_processing_pipeline, './pipelines-yaml/file_processing_pipeline.yaml')"
   ]
  },
  {
   "cell_type": "code",
   "execution_count": 50,
   "id": "7c5078af-969a-47b3-a756-0fd4f2166ad6",
   "metadata": {},
   "outputs": [
    {
     "data": {
      "text/html": [
       "<a href=\"/pipeline/#/experiments/details/eab56b7f-f1ae-4d56-a13b-ae35c83302b6\" target=\"_blank\" >Experiment details</a>."
      ],
      "text/plain": [
       "<IPython.core.display.HTML object>"
      ]
     },
     "metadata": {},
     "output_type": "display_data"
    },
    {
     "data": {
      "text/html": [
       "<a href=\"/pipeline/#/runs/details/d6e36b49-8dd6-4692-b376-2edfa19b9c9c\" target=\"_blank\" >Run details</a>."
      ],
      "text/plain": [
       "<IPython.core.display.HTML object>"
      ]
     },
     "metadata": {},
     "output_type": "display_data"
    }
   ],
   "source": [
    "client = kfp.Client()\n",
    "run = client.create_run_from_pipeline_func(file_processing_pipeline, arguments={\"host\": \"raycluster-kuberay-head-svc.demo-ns.svc.cluster.local\", \"port\": 8265}, enable_caching=False)"
   ]
  },
  {
   "cell_type": "code",
   "execution_count": null,
   "id": "a856b8d6-c81c-40f1-b861-e81b68b3dcdb",
   "metadata": {},
   "outputs": [],
   "source": []
  },
  {
   "cell_type": "code",
   "execution_count": null,
   "id": "bde512d9-05f2-4b19-9461-55ba49ff8efa",
   "metadata": {},
   "outputs": [],
   "source": []
  }
 ],
 "metadata": {
  "kernelspec": {
   "display_name": "Python 3 (ipykernel)",
   "language": "python",
   "name": "python3"
  },
  "language_info": {
   "codemirror_mode": {
    "name": "ipython",
    "version": 3
   },
   "file_extension": ".py",
   "mimetype": "text/x-python",
   "name": "python",
   "nbconvert_exporter": "python",
   "pygments_lexer": "ipython3",
   "version": "3.11.11"
  }
 },
 "nbformat": 4,
 "nbformat_minor": 5
}
