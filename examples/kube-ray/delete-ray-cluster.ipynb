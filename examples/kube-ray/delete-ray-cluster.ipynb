{
 "cells": [
  {
   "cell_type": "code",
   "execution_count": 1,
   "id": "d3ac42a6-3006-4e3b-a2fd-293b5773f9a7",
   "metadata": {},
   "outputs": [],
   "source": [
    "import kfp\n",
    "import os\n",
    "import requests\n",
    "\n",
    "from kfp.dsl import Input, Model, component, Dataset, Output, Artifact\n",
    "from kfp.dsl import InputPath, OutputPath, pipeline, component, PipelineTask\n",
    "from kfp.components import load_component_from_file"
   ]
  },
  {
   "cell_type": "code",
   "execution_count": 2,
   "id": "39d3a710-1be3-42c8-a4aa-32e949b95c77",
   "metadata": {},
   "outputs": [],
   "source": [
    "@component(\n",
    "    base_image=\"python:3.11\",\n",
    "    packages_to_install=[\"kubernetes==26.1.0\"]\n",
    ")\n",
    "def delete_ray_pvc(namespace: str, name: str) -> str:\n",
    "    from kubernetes import client, config\n",
    "\n",
    "    # Load cluster credentials\n",
    "    config.load_incluster_config()\n",
    "\n",
    "    core_v1 = client.CoreV1Api()\n",
    "\n",
    "    # Optional delete options—for example, enabling graceful deletion:\n",
    "    delete_options = client.V1DeleteOptions(\n",
    "        propagation_policy=\"Foreground\",  # ensures dependent resources are also deleted\n",
    "        grace_period_seconds=0\n",
    "    )\n",
    "\n",
    "    core_v1.delete_namespaced_persistent_volume_claim(\n",
    "        name=f\"pvc-{name}\",\n",
    "        namespace=namespace,\n",
    "        body=delete_options\n",
    "    )\n",
    "\n",
    "    return f\"Deletion initiated for PVC 'pvc-{name}' in namespace '{namespace}'.\""
   ]
  },
  {
   "cell_type": "code",
   "execution_count": 3,
   "id": "59fdddfa-5a98-4fac-becb-08e4d8709c83",
   "metadata": {},
   "outputs": [],
   "source": [
    "@component(\n",
    "    base_image=\"python:3.11\",\n",
    "    packages_to_install=[\"kserve==0.13.1\", \"kubernetes==26.1.0\", \"tenacity==9.0.0\"]\n",
    ")\n",
    "def destroy_ray_cluster_yaml(namespace: str, name: str):\n",
    "    import yaml\n",
    "    from kubernetes import client, config\n",
    "    \n",
    "    config.load_incluster_config()\n",
    "    api = client.CustomObjectsApi()\n",
    "\n",
    "    cluster_name = f\"{name}-kuberay\"\n",
    "\n",
    "    raycluster = api.delete_namespaced_custom_object(\n",
    "        group='ray.io',\n",
    "        version='v1',\n",
    "        namespace=namespace,\n",
    "        plural='rayclusters',\n",
    "        name=cluster_name\n",
    "    )\n",
    "    "
   ]
  },
  {
   "cell_type": "code",
   "execution_count": 4,
   "id": "da4b6f9b-b5e6-4c9f-a404-cb66d6f8e496",
   "metadata": {},
   "outputs": [],
   "source": [
    "@pipeline(name='delete-ray-cluster-pipeline')\n",
    "def delete_ray_cluster_pipeline(namespace: str, name: str):\n",
    "    delete_pvc_op = delete_ray_pvc(namespace=namespace, name=name)\n",
    "    delete_op = destroy_ray_cluster_yaml(namespace=namespace, name=name).after(delete_pvc_op)"
   ]
  },
  {
   "cell_type": "code",
   "execution_count": 5,
   "id": "f8f2bce3-5859-483d-ac56-d09e4d5b35fc",
   "metadata": {},
   "outputs": [
    {
     "name": "stderr",
     "output_type": "stream",
     "text": [
      "/opt/conda/lib/python3.11/site-packages/kfp/client/client.py:159: FutureWarning: This client only works with Kubeflow Pipeline v2.0.0-beta.2 and later versions.\n",
      "  warnings.warn(\n"
     ]
    }
   ],
   "source": [
    "client = kfp.Client()\n",
    "\n",
    "kfp.compiler.Compiler().compile(delete_ray_cluster_pipeline, './pipelines-yaml/delete_ray_cluster_pipeline.yaml')"
   ]
  },
  {
   "cell_type": "code",
   "execution_count": 6,
   "id": "73ed9c87-6297-48ad-b444-045f0eb52de4",
   "metadata": {},
   "outputs": [
    {
     "data": {
      "text/html": [
       "<a href=\"/pipeline/#/experiments/details/eab56b7f-f1ae-4d56-a13b-ae35c83302b6\" target=\"_blank\" >Experiment details</a>."
      ],
      "text/plain": [
       "<IPython.core.display.HTML object>"
      ]
     },
     "metadata": {},
     "output_type": "display_data"
    },
    {
     "data": {
      "text/html": [
       "<a href=\"/pipeline/#/runs/details/14db1ccd-ed6b-4035-8048-70f21bb62367\" target=\"_blank\" >Run details</a>."
      ],
      "text/plain": [
       "<IPython.core.display.HTML object>"
      ]
     },
     "metadata": {},
     "output_type": "display_data"
    }
   ],
   "source": [
    "run = client.create_run_from_pipeline_func(delete_ray_cluster_pipeline, arguments={\"namespace\": \"demo-ns\", \"name\": \"raycluster\"}, enable_caching=False)"
   ]
  },
  {
   "cell_type": "code",
   "execution_count": null,
   "id": "61dfde67-15d2-4bc7-92e8-ebffbe62b228",
   "metadata": {},
   "outputs": [],
   "source": []
  }
 ],
 "metadata": {
  "kernelspec": {
   "display_name": "Python 3 (ipykernel)",
   "language": "python",
   "name": "python3"
  },
  "language_info": {
   "codemirror_mode": {
    "name": "ipython",
    "version": 3
   },
   "file_extension": ".py",
   "mimetype": "text/x-python",
   "name": "python",
   "nbconvert_exporter": "python",
   "pygments_lexer": "ipython3",
   "version": "3.11.11"
  }
 },
 "nbformat": 4,
 "nbformat_minor": 5
}
