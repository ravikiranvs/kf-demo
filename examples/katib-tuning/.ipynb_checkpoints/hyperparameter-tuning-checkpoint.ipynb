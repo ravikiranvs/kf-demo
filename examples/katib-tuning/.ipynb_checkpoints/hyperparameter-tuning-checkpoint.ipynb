{
 "cells": [
  {
   "cell_type": "code",
   "execution_count": 1,
   "id": "b6a9c33f-eab7-40c4-9024-31236321c6a8",
   "metadata": {},
   "outputs": [],
   "source": [
    "import kfp\n",
    "from kfp.dsl import component, pipeline"
   ]
  },
  {
   "cell_type": "code",
   "execution_count": 2,
   "id": "1f92a74d-f471-4793-ba08-0e356f758d5c",
   "metadata": {},
   "outputs": [],
   "source": [
    "@component(\n",
    "    base_image='python:3.9',\n",
    "    packages_to_install=[\"kubeflow-katib\"],\n",
    ")\n",
    "def hp_tuning():\n",
    "    def objective(parameters):\n",
    "        # Import required packages.\n",
    "        import time\n",
    "        time.sleep(5)\n",
    "        # Calculate objective function.\n",
    "        result = 4 * int(parameters[\"a\"]) - float(parameters[\"b\"]) ** 2\n",
    "        # Katib parses metrics in this format: <metric-name>=<metric-value>.\n",
    "        print(f\"result={result}\")\n",
    "    \n",
    "    import kubeflow.katib as katib\n",
    "    \n",
    "    # [2] Create hyperparameter search space.\n",
    "    parameters = {\n",
    "        \"a\": katib.search.int(min=10, max=20),\n",
    "        \"b\": katib.search.double(min=0.1, max=0.2)\n",
    "    }\n",
    "    \n",
    "    # [3] Create Katib Experiment with 12 Trials and 2 CPUs per Trial.\n",
    "    katib_client = katib.KatibClient(namespace=\"demo-ns\")\n",
    "    \n",
    "    name = \"tune-experiment\"\n",
    "    katib_client.tune(\n",
    "        name=name,\n",
    "        objective=objective,\n",
    "        parameters=parameters,\n",
    "        objective_metric_name=\"result\",\n",
    "        max_trial_count=12,\n",
    "        resources_per_trial={\"cpu\": \"2\"},\n",
    "    )\n",
    "    \n",
    "    # [4] Wait until Katib Experiment is complete\n",
    "    katib_client.wait_for_experiment_condition(name=name)\n",
    "    \n",
    "    # [5] Get the best hyperparameters.\n",
    "    print(katib_client.get_optimal_hyperparameters(name))"
   ]
  },
  {
   "cell_type": "code",
   "execution_count": 3,
   "id": "a214f41b-7c76-421b-8237-c432b4de039b",
   "metadata": {},
   "outputs": [
    {
     "name": "stderr",
     "output_type": "stream",
     "text": [
      "/opt/conda/lib/python3.11/site-packages/kfp/client/client.py:159: FutureWarning: This client only works with Kubeflow Pipeline v2.0.0-beta.2 and later versions.\n",
      "  warnings.warn(\n"
     ]
    },
    {
     "data": {
      "text/html": [
       "<a href=\"/pipeline/#/experiments/details/eab56b7f-f1ae-4d56-a13b-ae35c83302b6\" target=\"_blank\" >Experiment details</a>."
      ],
      "text/plain": [
       "<IPython.core.display.HTML object>"
      ]
     },
     "metadata": {},
     "output_type": "display_data"
    },
    {
     "data": {
      "text/html": [
       "<a href=\"/pipeline/#/runs/details/795a4948-0bd5-490a-97e6-c15bad06289b\" target=\"_blank\" >Run details</a>."
      ],
      "text/plain": [
       "<IPython.core.display.HTML object>"
      ]
     },
     "metadata": {},
     "output_type": "display_data"
    }
   ],
   "source": [
    "@pipeline(name='hp-tuning-pipeline')\n",
    "def hp_tuning_pipeline():\n",
    "    step1 = hp_tuning()\n",
    "\n",
    "client = kfp.Client()\n",
    "kfp.compiler.Compiler().compile(hp_tuning_pipeline, './pipelines-yaml/hp_tuning_pipeline.yaml')\n",
    "run = client.create_run_from_pipeline_func(hp_tuning_pipeline, arguments={}, enable_caching=False)"
   ]
  },
  {
   "cell_type": "code",
   "execution_count": null,
   "id": "63ed03cf-91e9-49a3-a646-e85bb8073a5f",
   "metadata": {},
   "outputs": [],
   "source": []
  }
 ],
 "metadata": {
  "kernelspec": {
   "display_name": "Python 3 (ipykernel)",
   "language": "python",
   "name": "python3"
  },
  "language_info": {
   "codemirror_mode": {
    "name": "ipython",
    "version": 3
   },
   "file_extension": ".py",
   "mimetype": "text/x-python",
   "name": "python",
   "nbconvert_exporter": "python",
   "pygments_lexer": "ipython3",
   "version": "3.11.11"
  }
 },
 "nbformat": 4,
 "nbformat_minor": 5
}
